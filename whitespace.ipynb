{
 "cells": [
  {
   "cell_type": "code",
   "execution_count": 4,
   "metadata": {},
   "outputs": [],
   "source": [
    "import pandas as pd\n",
    "\n",
    "def merge_columns_to_txt(input_file, output_file):\n",
    "    # Read the text file\n",
    "    with open(input_file, 'r') as file:\n",
    "        lines = file.readlines()\n",
    "\n",
    "    # Merge Column 1 and Column 2 with an underscore\n",
    "    merged_values = [line.strip().split()[0] + '_' + line.strip().split()[1] for line in lines]\n",
    "\n",
    "    # Save the merged values as a text file\n",
    "    with open(output_file, 'w') as file:\n",
    "        file.write('\\n'.join(merged_values))\n",
    "# Example usage\n",
    "input_file = 'Data Train for BDC 2023 - Penyisihan\\data\\cavalidation.txt' # Specify the input Excel file path\n",
    "output_file = 'Data Train for BDC 2023 - Penyisihan\\data\\cavalidation.txt'   # Specify the output text file path\n",
    "\n",
    "merge_columns_to_txt(input_file, output_file)\n"
   ]
  },
  {
   "cell_type": "code",
   "execution_count": 1,
   "metadata": {},
   "outputs": [],
   "source": [
    "# Open the input file for reading\n",
    "with open(\"DataTrain/data/cavalidation.txt\", \"r\") as input_file:\n",
    "    # Read the lines from the input file\n",
    "    lines = input_file.readlines()\n",
    "\n",
    "# Open a new file for writing\n",
    "with open(\"DataTrain/data/cavalidation.txt\", \"w\") as output_file:\n",
    "    # Iterate through each line in the input file\n",
    "    for line in lines:\n",
    "        # Remove leading and trailing whitespaces from the line\n",
    "        line = line.strip()\n",
    "        \n",
    "        # Append \".png\" to the end of the line\n",
    "        line_with_extension = line + \".png\"\n",
    "        \n",
    "        # Write the modified line to the output file\n",
    "        output_file.write(line_with_extension + \"\\n\")\n"
   ]
  },
  {
   "cell_type": "code",
   "execution_count": null,
   "metadata": {},
   "outputs": [],
   "source": [
    "    "
   ]
  }
 ],
 "metadata": {
  "kernelspec": {
   "display_name": ".venv",
   "language": "python",
   "name": "python3"
  },
  "language_info": {
   "codemirror_mode": {
    "name": "ipython",
    "version": 3
   },
   "file_extension": ".py",
   "mimetype": "text/x-python",
   "name": "python",
   "nbconvert_exporter": "python",
   "pygments_lexer": "ipython3",
   "version": "3.9.0"
  },
  "orig_nbformat": 4
 },
 "nbformat": 4,
 "nbformat_minor": 2
}
