{
 "cells": [
  {
   "cell_type": "code",
   "execution_count": 10,
   "metadata": {},
   "outputs": [],
   "source": [
    "import cv2\n",
    "import os\n",
    "\n",
    "def preprocess_license_plate(image_path):\n",
    "    # Load image\n",
    "    image = cv2.imread(image_path)\n",
    "    \n",
    "    # Resize image to a fixed resolution\n",
    "    target_resolution = (128, 32)  # adjust the resolution as needed\n",
    "    image = cv2.resize(image, target_resolution)\n",
    "    \n",
    "    # Convert image to grayscale\n",
    "    gray = cv2.cvtColor(image, cv2.COLOR_BGR2GRAY)\n",
    "    \n",
    "    # Perform dilation to enhance features\n",
    "    kernel = cv2.getStructuringElement(cv2.MORPH_RECT, (3, 3))\n",
    "    dilated = cv2.dilate(gray, kernel, iterations=1)\n",
    "    \n",
    "    return dilated\n",
    "\n",
    "# Set the input directory path containing license plate images\n",
    "input_directory = \"DataTrain/exp\"\n",
    "# Set the output directory path to save preprocessed images\n",
    "output_directory = \"DataTrain/preprocessed\"\n",
    "\n",
    "# Iterate over all image files in the input directory\n",
    "for filename in os.listdir(input_directory):\n",
    "    if filename.endswith(\".jpg\") or filename.endswith(\".png\"):\n",
    "        image_path = os.path.join(input_directory, filename)\n",
    "        \n",
    "        # Preprocess the license plate image\n",
    "        preprocessed_image = preprocess_license_plate(image_path)\n",
    "        \n",
    "        # Save the preprocessed image to the output directory\n",
    "        output_path = os.path.join(output_directory, filename)\n",
    "        cv2.imwrite(output_path, preprocessed_image)\n"
   ]
  },
  {
   "attachments": {},
   "cell_type": "markdown",
   "metadata": {},
   "source": [
    "Update"
   ]
  },
  {
   "cell_type": "code",
   "execution_count": 5,
   "metadata": {},
   "outputs": [],
   "source": [
    "import cv2\n",
    "import os\n",
    "\n",
    "def preprocess_license_plate(image_path):\n",
    "    # Load image\n",
    "    image = cv2.imread(image_path)\n",
    "\n",
    "    # Resize image to a fixed resolution\n",
    "    target_resolution = (256, 64)  # adjust the resolution as needed\n",
    "    image = cv2.resize(image, target_resolution)\n",
    "\n",
    "    # Convert image to grayscale\n",
    "    gray = cv2.cvtColor(image, cv2.COLOR_BGR2GRAY)\n",
    "\n",
    "    return gray\n",
    "\n",
    "# Set the input directory path containing license plate images\n",
    "input_directory = \"DataTest\"\n",
    "# Set the output directory path to save preprocessed images\n",
    "output_directory = \"DataTest/preprocessed\"\n",
    "\n",
    "# Create the output directory if it doesn't exist\n",
    "os.makedirs(output_directory, exist_ok=True)\n",
    "\n",
    "# Iterate over all image files in the input directory\n",
    "for filename in os.listdir(input_directory):\n",
    "    if filename.endswith(\".jpg\") or filename.endswith(\".png\"):\n",
    "        image_path = os.path.join(input_directory, filename)\n",
    "\n",
    "        # Preprocess the license plate image\n",
    "        preprocessed_image = preprocess_license_plate(image_path)\n",
    "\n",
    "        # Save the preprocessed image to the output directory\n",
    "        output_path = os.path.join(output_directory, filename)\n",
    "        cv2.imwrite(output_path, preprocessed_image)\n"
   ]
  },
  {
   "cell_type": "code",
   "execution_count": null,
   "metadata": {},
   "outputs": [],
   "source": []
  }
 ],
 "metadata": {
  "kernelspec": {
   "display_name": ".venv",
   "language": "python",
   "name": "python3"
  },
  "language_info": {
   "codemirror_mode": {
    "name": "ipython",
    "version": 3
   },
   "file_extension": ".py",
   "mimetype": "text/x-python",
   "name": "python",
   "nbconvert_exporter": "python",
   "pygments_lexer": "ipython3",
   "version": "3.9.13"
  },
  "orig_nbformat": 4
 },
 "nbformat": 4,
 "nbformat_minor": 2
}
